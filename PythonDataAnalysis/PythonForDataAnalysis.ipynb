{
  "nbformat": 4,
  "nbformat_minor": 0,
  "metadata": {
    "colab": {
      "provenance": [],
      "toc_visible": true,
      "authorship_tag": "ABX9TyPpYYQzaQ9fvi/40KsYbyNc",
      "include_colab_link": true
    },
    "kernelspec": {
      "name": "python3",
      "display_name": "Python 3"
    },
    "language_info": {
      "name": "python"
    }
  },
  "cells": [
    {
      "cell_type": "markdown",
      "metadata": {
        "id": "view-in-github",
        "colab_type": "text"
      },
      "source": [
        "<a href=\"https://colab.research.google.com/github/EngineeredForHU/Machine-Learning-Reference/blob/main/PythonDataAnalysis/PythonForDataAnalysis.ipynb\" target=\"_parent\"><img src=\"https://colab.research.google.com/assets/colab-badge.svg\" alt=\"Open In Colab\"/></a>"
      ]
    },
    {
      "cell_type": "markdown",
      "source": [
        "# Python for Data Analyst (Book)\n",
        "This Notebook will serve as the introductioin to the most important fundamenatal concepts in data analysis using Python more particularly in the libaries such as **NumPy, Pandas**.\n",
        "\n",
        "This Notebook will serve as a reference to my reading/learning from the book **\"Python for Data Analysis, 3rd Edition\" by Wes McKinney**."
      ],
      "metadata": {
        "id": "QBhBoZv3IXcj"
      }
    },
    {
      "cell_type": "markdown",
      "source": [
        "# Introduction\n",
        "This introduction will cover the essential core Python concepts that form the foundation for data analysis.\n",
        "Before diving into Python’s powerful libraries — like NumPy and Pandas — it’s important to first understand these basics, as they will make working with more advanced tools far easier and more intuitive."
      ],
      "metadata": {
        "id": "vAe3OCwlbOWa"
      }
    },
    {
      "cell_type": "markdown",
      "source": [
        "## Python Fundamentals\n",
        "This will be a quick brief overview of some Python concepts that are important."
      ],
      "metadata": {
        "id": "FBfhDZTkob3r"
      }
    },
    {
      "cell_type": "markdown",
      "source": [
        "### Useful Methods\n",
        "The first method is going to be a clean string function."
      ],
      "metadata": {
        "id": "oQc0sHp9rWTl"
      }
    },
    {
      "cell_type": "code",
      "source": [
        "import re\n",
        "\n",
        "# Here is an example of a user survey with users putting in data that is not readable so this method will clean the string(data) and make it more useful for analysis\n",
        "names = ['angel. !','Bob.   ',' job hand']\n",
        "\n",
        "def clean_string(strings):\n",
        "  result = []\n",
        "  for name in strings:\n",
        "    name = name.strip()\n",
        "    # Inside in the [] are the letters/symbols(EVEN SPACES) we want to 'sub' for blank space into 'name'\n",
        "    name = re.sub(\"[.!#? ]\", \"\", name)\n",
        "    # title capitalizes the begining of each word\n",
        "    name = name.title()\n",
        "    result.append(name)\n",
        "\n",
        "  return result\n",
        "\n",
        "clean_string(names)\n"
      ],
      "metadata": {
        "colab": {
          "base_uri": "https://localhost:8080/"
        },
        "id": "CtCwvurwrbId",
        "outputId": "fe5ca351-416d-4d85-e14a-2742358f7beb"
      },
      "execution_count": 32,
      "outputs": [
        {
          "output_type": "execute_result",
          "data": {
            "text/plain": [
              "['Angel', 'Bob', 'Jobhand']"
            ]
          },
          "metadata": {},
          "execution_count": 32
        }
      ]
    },
    {
      "cell_type": "code",
      "source": [],
      "metadata": {
        "id": "3Rh5ayZUs5wa"
      },
      "execution_count": 28,
      "outputs": []
    }
  ]
}