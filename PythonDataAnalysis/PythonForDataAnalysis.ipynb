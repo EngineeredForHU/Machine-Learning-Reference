{
  "nbformat": 4,
  "nbformat_minor": 0,
  "metadata": {
    "colab": {
      "provenance": [],
      "toc_visible": true,
      "authorship_tag": "ABX9TyNpZIVr7QHLhx/T0GQQCsvd",
      "include_colab_link": true
    },
    "kernelspec": {
      "name": "python3",
      "display_name": "Python 3"
    },
    "language_info": {
      "name": "python"
    }
  },
  "cells": [
    {
      "cell_type": "markdown",
      "metadata": {
        "id": "view-in-github",
        "colab_type": "text"
      },
      "source": [
        "<a href=\"https://colab.research.google.com/github/EngineeredForHU/Machine-Learning-Reference/blob/main/PythonDataAnalysis/PythonForDataAnalysis.ipynb\" target=\"_parent\"><img src=\"https://colab.research.google.com/assets/colab-badge.svg\" alt=\"Open In Colab\"/></a>"
      ]
    },
    {
      "cell_type": "markdown",
      "source": [
        "# Python for Data Analyst (Book)\n",
        "This Notebook will serve as the introductioin to the most important fundamenatal concepts in data analysis using Python more particularly in the libaries such as **NumPy, Pandas**.\n",
        "\n",
        "This Notebook will serve as a reference to my reading/learning from the book **\"Python for Data Analysis, 3rd Edition\" by Wes McKinney**."
      ],
      "metadata": {
        "id": "QBhBoZv3IXcj"
      }
    },
    {
      "cell_type": "markdown",
      "source": [
        "# Introduction\n",
        "This introduction will cover the essential core Python concepts that form the foundation for data analysis.\n",
        "Before diving into Python’s powerful libraries — like NumPy and Pandas — it’s important to first understand these basics, as they will make working with more advanced tools far easier and more intuitive."
      ],
      "metadata": {
        "id": "vAe3OCwlbOWa"
      }
    }
  ]
}