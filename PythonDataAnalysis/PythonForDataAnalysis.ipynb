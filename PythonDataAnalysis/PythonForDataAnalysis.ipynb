{
  "nbformat": 4,
  "nbformat_minor": 0,
  "metadata": {
    "colab": {
      "provenance": [],
      "toc_visible": true,
      "authorship_tag": "ABX9TyPaG/Gjhm0ZB/ydnFZOyVv9",
      "include_colab_link": true
    },
    "kernelspec": {
      "name": "python3",
      "display_name": "Python 3"
    },
    "language_info": {
      "name": "python"
    }
  },
  "cells": [
    {
      "cell_type": "markdown",
      "metadata": {
        "id": "view-in-github",
        "colab_type": "text"
      },
      "source": [
        "<a href=\"https://colab.research.google.com/github/EngineeredForHU/Machine-Learning-Reference/blob/main/PythonDataAnalysis/PythonForDataAnalysis.ipynb\" target=\"_parent\"><img src=\"https://colab.research.google.com/assets/colab-badge.svg\" alt=\"Open In Colab\"/></a>"
      ]
    },
    {
      "cell_type": "markdown",
      "source": [
        "# Python for Data Analyst (Book)\n",
        "This Notebook will serve as the introductioin to the most important fundamenatal concepts in data analysis using Python more particularly in the libaries such as **NumPy, Pandas**.\n",
        "\n",
        "This Notebook will serve as a reference to my reading/learning from the book **\"Python for Data Analysis, 3rd Edition\" by Wes McKinney**."
      ],
      "metadata": {
        "id": "QBhBoZv3IXcj"
      }
    },
    {
      "cell_type": "markdown",
      "source": [
        "# Introduction\n",
        "This introduction will cover the essential core Python concepts that form the foundation for data analysis.\n",
        "Before diving into Python’s powerful libraries — like NumPy and Pandas — it’s important to first understand these basics, as they will make working with more advanced tools far easier and more intuitive."
      ],
      "metadata": {
        "id": "vAe3OCwlbOWa"
      }
    },
    {
      "cell_type": "markdown",
      "source": [
        "## Python Fundamentals\n",
        "This section provides a brief overview of key Python concepts.\n",
        "Each code example is modular—meaning you can run it independently without needing to execute any other code blocks."
      ],
      "metadata": {
        "id": "FBfhDZTkob3r"
      }
    },
    {
      "cell_type": "markdown",
      "source": [
        "### Useful Methods"
      ],
      "metadata": {
        "id": "oQc0sHp9rWTl"
      }
    },
    {
      "cell_type": "markdown",
      "source": [
        "#### Clean String Method\n",
        "The first method is going to be a clean string function.\n",
        "The second method is a more functional and cleaner. BELOW"
      ],
      "metadata": {
        "id": "da6s6Fc90Woo"
      }
    },
    {
      "cell_type": "code",
      "source": [
        "import re  # For pattern-based text replacements\n",
        "\n",
        "# Remove specific punctuation: !, #, ?\n",
        "def remove_punctuation(value):\n",
        "    return re.sub(\"[!#?]\", \"\", value)\n",
        "\n",
        "# Cleaning steps: strip spaces → remove punctuation → title case\n",
        "clean_ops = [str.strip, remove_punctuation, str.title]\n",
        "\n",
        "# Apply all cleaning steps to each string in the list\n",
        "def clean_strings(strings, ops):\n",
        "    result = []\n",
        "    for value in strings:\n",
        "        for func in ops:\n",
        "            value = func(value)\n",
        "        result.append(value)\n",
        "    return result\n",
        "\n",
        "# Example data\n",
        "states = [\n",
        "    '   Alabama ',\n",
        "    'Georgia!',\n",
        "    'Georgia',\n",
        "    'georgia',\n",
        "    'FlOrIda',\n",
        "    'south   carolina##',\n",
        "    'West virginia?'\n",
        "]\n",
        "\n",
        "# Clean and print\n",
        "print(clean_strings(states, clean_ops))\n",
        "\n"
      ],
      "metadata": {
        "colab": {
          "base_uri": "https://localhost:8080/"
        },
        "id": "R77DbO8f0-UK",
        "outputId": "7d87cae3-190e-463f-dce0-c5623ca498e7"
      },
      "execution_count": 2,
      "outputs": [
        {
          "output_type": "stream",
          "name": "stdout",
          "text": [
            "   Alabama \n",
            "Georgia\n",
            "Georgia\n",
            "georgia\n",
            "FlOrIda\n",
            "south   carolina\n",
            "West virginia\n"
          ]
        }
      ]
    },
    {
      "cell_type": "markdown",
      "source": [
        "### Anonymous (Lambda) Functions\n",
        "\n",
        "Python has support for so-called anonymous or lambda functions, which are a way of writing functions consisting of a single statement, the result of which is the return value.\n",
        "\n",
        "They are defined with the lambda keyword. which has no meaning other than \"we are declaring a lambda\"\n"
      ],
      "metadata": {
        "id": "hvtkODjg2Jdk"
      }
    },
    {
      "cell_type": "code",
      "source": [
        "# defining a lambda function\n",
        "def short_function(x):\n",
        "  return x * 2\n",
        "\n",
        "# This is equivlent\n",
        "equiv_anon = lambda x: x * 2"
      ],
      "metadata": {
        "id": "pOyebHou4MNs"
      },
      "execution_count": null,
      "outputs": []
    },
    {
      "cell_type": "markdown",
      "source": [
        "#### More Examples:\n",
        "Suppose you want to sort a collection of strings by the distinct letters in each string."
      ],
      "metadata": {
        "id": "sne5dlVc5H4c"
      }
    },
    {
      "cell_type": "code",
      "source": [
        "strings = ['foo', 'card', 'bar', \"aaaa\", 'abab']\n",
        "\n",
        "# Sort by the count of unique characters in each string\n",
        "# set(x) → unique characters from the string\n",
        "# len(set(x)) → number of unique characters\n",
        "strings.sort(key=lambda x: len(set(x)))\n",
        "\n",
        "print(strings)\n"
      ],
      "metadata": {
        "colab": {
          "base_uri": "https://localhost:8080/"
        },
        "id": "NbcR8EmZ5V61",
        "outputId": "2c09c04f-7238-47e5-b699-826892f5cf6b"
      },
      "execution_count": 3,
      "outputs": [
        {
          "output_type": "stream",
          "name": "stdout",
          "text": [
            "['aaaa', 'foo', 'abab', 'bar', 'card']\n"
          ]
        }
      ]
    },
    {
      "cell_type": "markdown",
      "source": [
        "### Generators\n",
        "many objects in python support iteration, such as over objects in a list or lines in a file. This is accomplished by means of the iterator protocol, a generic way to make objects iterable.\n",
        "\n",
        "**NOTE: Since generator produce output one element at a time versus an entire list all at once, it can help your program use less memory**"
      ],
      "metadata": {
        "id": "Tr1WQ6AM6c6O"
      }
    },
    {
      "cell_type": "code",
      "source": [
        "# Define a generator function that yields squares of numbers\n",
        "def squares(n=10):\n",
        "    # This message is printed when the generator is first created\n",
        "    print(f'Generating squares from 1 to {n ** 2}')\n",
        "    # Yield squares of numbers from 1 to n\n",
        "    for i in range(1, n + 1):\n",
        "      # yield is a new keyword\n",
        "        yield i ** 2\n",
        "\n",
        "# Printing the generator object itself (this will not run the generator yet)\n",
        "print(squares())\n",
        "\n",
        "# The generator only runs when you iterate over it\n",
        "# Here, we loop through the generator and print each square\n",
        "for x in squares():\n",
        "    print(x, end=' ')\n",
        "\n",
        "\n"
      ],
      "metadata": {
        "colab": {
          "base_uri": "https://localhost:8080/"
        },
        "id": "s7QqBkRj7PyU",
        "outputId": "616cef9c-23a1-4ae9-e89d-cb2955455656"
      },
      "execution_count": 6,
      "outputs": [
        {
          "output_type": "stream",
          "name": "stdout",
          "text": [
            "<generator object squares at 0x7c9d603c7140>\n",
            "Generating squares from 1 to 100\n",
            "1 4 9 16 25 36 49 64 81 100 "
          ]
        }
      ]
    },
    {
      "cell_type": "markdown",
      "source": [
        "#### Generator Expressions\n",
        "Generator Expression is another way to create generators. Similar to list comprehenion but indead of square brackets [ ] we use parenthesis().\n"
      ],
      "metadata": {
        "id": "wiRwNWex85QS"
      }
    },
    {
      "cell_type": "code",
      "source": [
        "gen = (x ** 2 for x in range(100))\n",
        "print(gen)"
      ],
      "metadata": {
        "colab": {
          "base_uri": "https://localhost:8080/"
        },
        "id": "H-8MtfxS9hb2",
        "outputId": "2f10abbc-5a61-429f-8715-055c53fd277e"
      },
      "execution_count": 7,
      "outputs": [
        {
          "output_type": "stream",
          "name": "stdout",
          "text": [
            "<generator object <genexpr> at 0x7c9d604039f0>\n"
          ]
        }
      ]
    }
  ]
}