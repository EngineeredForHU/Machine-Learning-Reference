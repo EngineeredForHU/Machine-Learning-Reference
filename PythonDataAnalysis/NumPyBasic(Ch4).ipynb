{
  "nbformat": 4,
  "nbformat_minor": 0,
  "metadata": {
    "colab": {
      "provenance": [],
      "authorship_tag": "ABX9TyMg1DApzfH8qbyNrPEA/EDu",
      "include_colab_link": true
    },
    "kernelspec": {
      "name": "python3",
      "display_name": "Python 3"
    },
    "language_info": {
      "name": "python"
    }
  },
  "cells": [
    {
      "cell_type": "markdown",
      "metadata": {
        "id": "view-in-github",
        "colab_type": "text"
      },
      "source": [
        "<a href=\"https://colab.research.google.com/github/EngineeredForHU/Machine-Learning-Reference/blob/main/PythonDataAnalysis/NumPyBasic(Ch4).ipynb\" target=\"_parent\"><img src=\"https://colab.research.google.com/assets/colab-badge.svg\" alt=\"Open In Colab\"/></a>"
      ]
    },
    {
      "cell_type": "markdown",
      "source": [
        "# Chapter 4: NumPy Basics – Arrays and Vectorized Computation\n",
        "\n",
        "In this chapter, we will explore the **core features of NumPy**, the foundational library for numerical and scientific computing in Python.  \n",
        "We will cover:\n",
        "- ndarray, an efficient multidimensional array providing fast array-oriented\n",
        "\n",
        "- arithmetic operations and flexible broadcasting capabilities\n",
        "\n",
        "\n",
        "- Mathematical functions for fast operations on entire arrays of data without having to write loops\n",
        "\n",
        "- Tools for reading/writing array data to disk and working with memory-mapped files\n",
        "\n",
        "- Linear algebra, random number generation, and Fourier transform capabilities\n",
        "\n",
        "- A C API for connecting NumPy with libraries written in C, C++, or FORTRAN\n",
        "\n",
        "By the end of this section, you’ll understand how to use NumPy arrays as the backbone of data analysis, paving the way for more advanced numerical techniques and machine learning workflows.\n",
        "\n",
        "For most data analysis applications, the main areas of functionality I’ll focus on are:\n",
        "\n",
        "- Fast array-based operations for data munging and cleaning, subsetting and filtering, transformation, and any other kind of computation\n",
        "\n",
        "- Common array algorithms like sorting, unique, and set operations\n",
        "\n",
        "- Efficient descriptive statistics and aggregating/summarizing data\n",
        "\n",
        "- Data alignment and relational data manipulations for merging and joining heterogeneous datasets\n",
        "\n",
        "- Expressing conditional logic as array expressions instead of loops with if-elif-else branches\n",
        "\n",
        "- Group-wise data manipulations (aggregation, transformation, and function application)"
      ],
      "metadata": {
        "id": "jqgZZCTxBzIc"
      }
    },
    {
      "cell_type": "markdown",
      "source": [
        "## Introduction to Numpy\n",
        "One of the reasons NumPy is so important for numerical computations in python is because it is designed for efficiency on large arrays of data.\n",
        "\n",
        "It provides efficient multi-dimensional array objects and various mathematical functions."
      ],
      "metadata": {
        "id": "daI7aE7iD-zQ"
      }
    },
    {
      "cell_type": "markdown",
      "source": [
        "## Creating an array (ndarray)\n",
        "**ndarray = N-dimentional arrays**\n",
        "\n",
        "The easiest way to create an array is to use the **array function**. This accepts any sequence-like object(including other arrays) and produces a NumPy array containing the passed data.\n",
        "\n",
        "**Note:** although **ndarrays** supports only `homogeneous` data types (elements within it are of the same data type).\n",
        "- You can also use **ndarrays** with different data type, using dtype = 'object'"
      ],
      "metadata": {
        "id": "xC0h66wwW-SV"
      }
    },
    {
      "cell_type": "code",
      "source": [
        "import numpy as np\n",
        "# Here I will create a few different dimentional arrays\n",
        "\n",
        "# creating a 1D array\n",
        "arr_1d = np.array([1,2,3])\n",
        "\n",
        "# creating a 2D array\n",
        "arr_2d = np.array([[1,2,3],[3,4,6]])\n",
        "\n",
        "# creating a 3D array\n",
        "# A 3D array is like having 2D array stacked\n",
        "arr_3d = np.array([[[1, 2,0],\n",
        "                    [3, 4,6]],\n",
        "\n",
        "                    [[5, 6,9],\n",
        "                     [7, 8,10]]])\n",
        "\n",
        "print(f\"1D array:\\n{arr_1d}\\n\")\n",
        "print(f\"2D array:\\n{arr_2d}\\n\")\n",
        "print(f\"3D array:\\n{arr_3d}\")\n",
        "\n"
      ],
      "metadata": {
        "colab": {
          "base_uri": "https://localhost:8080/"
        },
        "id": "LVq-X29uYTkv",
        "outputId": "fac94591-3bcb-4a1b-c80c-f0293a6937c7"
      },
      "execution_count": 25,
      "outputs": [
        {
          "output_type": "stream",
          "name": "stdout",
          "text": [
            "1D array:\n",
            "[1 2 3]\n",
            "\n",
            "2D array:\n",
            "[[1 2 3]\n",
            " [3 4 6]]\n",
            "\n",
            "3D array:\n",
            "[[[ 1  2  0]\n",
            "  [ 3  4  6]]\n",
            "\n",
            " [[ 5  6  9]\n",
            "  [ 7  8 10]]]\n"
          ]
        }
      ]
    },
    {
      "cell_type": "markdown",
      "source": [
        "### Index Slicing\n",
        "Here we will discuss Index Slicing with arrays."
      ],
      "metadata": {
        "id": "wfvLa_o3ft46"
      }
    },
    {
      "cell_type": "markdown",
      "source": [
        "## Array attributes\n",
        "Here I will be learning the basic of NumPy Array attributes before getting into ndarrays in NumPy.\n",
        "- ndim\n",
        "- shape\n",
        "- size\n",
        "- dtype"
      ],
      "metadata": {
        "id": "MFvf6dNDU3KS"
      }
    },
    {
      "cell_type": "markdown",
      "source": [
        "### ndim\n",
        "The ndim attribute returns the number of array dimensions of an array."
      ],
      "metadata": {
        "id": "UVYjRd-_UDmU"
      }
    },
    {
      "cell_type": "code",
      "source": [
        "import numpy as np\n",
        "\n",
        "# Here we will create a 3 dimensional array and return it to validate it is a 3 dimensional array.\n",
        "arr = ([[1,2,3],[4,5,6],[7,8,9]])\n",
        "print(arr)\n",
        "print(np.ndim(arr))\n"
      ],
      "metadata": {
        "colab": {
          "base_uri": "https://localhost:8080/"
        },
        "id": "Ku64EvjeTwR3",
        "outputId": "ecb6b2b1-73ab-4c7c-e09a-c25528b40c93"
      },
      "execution_count": 14,
      "outputs": [
        {
          "output_type": "stream",
          "name": "stdout",
          "text": [
            "[[1, 2, 3], [4, 5, 6], [7, 8, 9]]\n",
            "2\n"
          ]
        }
      ]
    },
    {
      "cell_type": "markdown",
      "source": [
        "##4.1: The NumPy ndarray: A Multidimensional Array Object\n",
        "One of the key features of NumPy is its N-dimensional array object, or ndarray, which is a fast, flexible container for large datasets in Python.     "
      ],
      "metadata": {
        "id": "roPB2IQmE3h5"
      }
    },
    {
      "cell_type": "code",
      "source": [
        "import numpy as np"
      ],
      "metadata": {
        "id": "YhdXUkFLOZ7N"
      },
      "execution_count": 1,
      "outputs": []
    },
    {
      "cell_type": "code",
      "source": [
        "names = np.array([[\"angel\", \"bob\"], [\"ariana\", \"briana\"]])\n",
        "print(names.shape)   # (2, 2)\n"
      ],
      "metadata": {
        "colab": {
          "base_uri": "https://localhost:8080/"
        },
        "id": "E_JQMrLkOfBr",
        "outputId": "37b980fe-427b-4824-c144-adbf0d5d8aa3"
      },
      "execution_count": 5,
      "outputs": [
        {
          "output_type": "stream",
          "name": "stdout",
          "text": [
            "(2, 2)\n"
          ]
        }
      ]
    },
    {
      "cell_type": "code",
      "source": [],
      "metadata": {
        "colab": {
          "base_uri": "https://localhost:8080/"
        },
        "id": "v6Nmc7h1OzkI",
        "outputId": "cf94c601-4f81-4ccf-c38e-ca3c78e6c5e3"
      },
      "execution_count": 6,
      "outputs": [
        {
          "output_type": "stream",
          "name": "stdout",
          "text": [
            "bob\n"
          ]
        }
      ]
    }
  ]
}