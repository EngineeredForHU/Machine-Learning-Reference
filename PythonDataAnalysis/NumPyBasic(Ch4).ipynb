{
  "nbformat": 4,
  "nbformat_minor": 0,
  "metadata": {
    "colab": {
      "provenance": [],
      "toc_visible": true,
      "authorship_tag": "ABX9TyNkyRZvYyfhCtEyig32aP/A",
      "include_colab_link": true
    },
    "kernelspec": {
      "name": "python3",
      "display_name": "Python 3"
    },
    "language_info": {
      "name": "python"
    }
  },
  "cells": [
    {
      "cell_type": "markdown",
      "metadata": {
        "id": "view-in-github",
        "colab_type": "text"
      },
      "source": [
        "<a href=\"https://colab.research.google.com/github/EngineeredForHU/Machine-Learning-Reference/blob/main/PythonDataAnalysis/NumPyBasic(Ch4).ipynb\" target=\"_parent\"><img src=\"https://colab.research.google.com/assets/colab-badge.svg\" alt=\"Open In Colab\"/></a>"
      ]
    },
    {
      "cell_type": "markdown",
      "source": [
        "# Chapter 4: NumPy Basics – Arrays and Vectorized Computation\n",
        "\n",
        "In this chapter, we will explore the **core features of NumPy**, the foundational library for numerical and scientific computing in Python.  \n",
        "We will cover:\n",
        "- ndarray, an efficient multidimensional array providing fast array-oriented\n",
        "\n",
        "- arithmetic operations and flexible broadcasting capabilities\n",
        "\n",
        "\n",
        "- Mathematical functions for fast operations on entire arrays of data without having to write loops\n",
        "\n",
        "- Tools for reading/writing array data to disk and working with memory-mapped files\n",
        "\n",
        "- Linear algebra, random number generation, and Fourier transform capabilities\n",
        "\n",
        "- A C API for connecting NumPy with libraries written in C, C++, or FORTRAN\n",
        "\n",
        "By the end of this section, you’ll understand how to use NumPy arrays as the backbone of data analysis, paving the way for more advanced numerical techniques and machine learning workflows.\n",
        "\n",
        "For most data analysis applications, the main areas of functionality I’ll focus on are:\n",
        "\n",
        "- Fast array-based operations for data munging and cleaning, subsetting and filtering, transformation, and any other kind of computation\n",
        "\n",
        "- Common array algorithms like sorting, unique, and set operations\n",
        "\n",
        "- Efficient descriptive statistics and aggregating/summarizing data\n",
        "\n",
        "- Data alignment and relational data manipulations for merging and joining heterogeneous datasets\n",
        "\n",
        "- Expressing conditional logic as array expressions instead of loops with if-elif-else branches\n",
        "\n",
        "- Group-wise data manipulations (aggregation, transformation, and function application)"
      ],
      "metadata": {
        "id": "jqgZZCTxBzIc"
      }
    },
    {
      "cell_type": "markdown",
      "source": [
        "# 4.1: The NumPy ndarray: A Multidimensional Array Object\n",
        "One of the key features of NumPy is its N-dimensional array object, or ndarray, which is a fast, flexible container for large datasets in Python.   "
      ],
      "metadata": {
        "id": "5MJLdzcfgFB5"
      }
    },
    {
      "cell_type": "markdown",
      "source": [
        "## Introduction to Numpy\n",
        "One of the reasons NumPy is so important for numerical computations in python is because it is designed for efficiency on large arrays of data.\n",
        "\n",
        "It provides efficient multi-dimensional array objects and various mathematical functions"
      ],
      "metadata": {
        "id": "daI7aE7iD-zQ"
      }
    },
    {
      "cell_type": "markdown",
      "source": [
        "## Creating an Array (ndarray)\n",
        "The easiest way to create an array is to use the **array function**. This accepts any sequence-like object(including other arrays) and produces a NumPy array containing the passed data.\n",
        "\n",
        "**ndarray = N-dimentional arrays**\n",
        "\n",
        "**Note:** although **ndarrays** supports only `homogeneous` data types (elements within it are of the same data type).\n",
        "- You can also use **ndarrays** with different data type, using dtype = 'object'"
      ],
      "metadata": {
        "id": "xC0h66wwW-SV"
      }
    },
    {
      "cell_type": "code",
      "source": [
        "import numpy as np\n",
        "# Here I will create a few different dimentional arrays\n",
        "\n",
        "# creating a 1D array\n",
        "arr_1d = np.array([1,2,3])\n",
        "\n",
        "# creating a 2D array\n",
        "arr_2d = np.array([[1,2,3],[3,4,6]])\n",
        "\n",
        "# creating a 3D array\n",
        "# A 3D array is like having 2D array stacked\n",
        "arr_3d = np.array([[[1, 2,0],\n",
        "                    [3, 4,6]],\n",
        "\n",
        "                    [[5, 6,9],\n",
        "                    [7, 8,10]]])\n",
        "\n",
        "print(f\"1D array:\\n{arr_1d}\\n\")\n",
        "print(f\"2D array:\\n{arr_2d}\\n\")\n",
        "print(f\"3D array:\\n{arr_3d}\")\n",
        "\n"
      ],
      "metadata": {
        "colab": {
          "base_uri": "https://localhost:8080/"
        },
        "id": "LVq-X29uYTkv",
        "outputId": "81ba176f-5721-4809-9bfe-d30ac2d4b680"
      },
      "execution_count": 62,
      "outputs": [
        {
          "output_type": "stream",
          "name": "stdout",
          "text": [
            "1D array:\n",
            "[1 2 3]\n",
            "\n",
            "2D array:\n",
            "[[1 2 3]\n",
            " [3 4 6]]\n",
            "\n",
            "3D array:\n",
            "[[[ 1  2  0]\n",
            "  [ 3  4  6]]\n",
            "\n",
            " [[ 5  6  9]\n",
            "  [ 7  8 10]]]\n"
          ]
        }
      ]
    },
    {
      "cell_type": "markdown",
      "source": [
        "### Explicity Convert/Cast Array\n",
        "You can explicitly convert or cast an array from one data type to another using ndarray’s `astype` method:\n",
        "\n",
        "If I cast some floating-point numbers to be of integer data type, the decimal part will be truncated:\n",
        "\n",
        "If you have an array of strings representing numbers, you can use astype to convert them to numeric form:\n",
        "\n",
        "**NOTE:** Calling `astype` always creates a new array (a copy of the data), even if the new data type is the same as the old data type."
      ],
      "metadata": {
        "id": "2pzp7ffYa7Tv"
      }
    },
    {
      "cell_type": "code",
      "source": [
        "import numpy as np\n",
        "\n",
        "# Create a 1D integer array\n",
        "arr = np.array([1, 2, 3, 4, 5])\n",
        "\n",
        "# Convert integers to floats using astype()\n",
        "print(f'Before Cast: {arr}\\nConverting to floats: {arr.astype(np.float64)}\\n')\n",
        "\n",
        "# Create a 1D float array\n",
        "floatArr = np.array([3.7, -1.2, -2.6, 0.5, 12.9, 10.1])\n",
        "\n",
        "# Convert floats to integers (truncates decimal part, does not round)\n",
        "print(f'Before Cast: {floatArr}\\nConverting to Integers: {floatArr.astype(np.int64)}')\n",
        "print(\"Notice how the number after the decimal is cut off!!\\n\")\n",
        "\n",
        "# Create an array of numeric strings\n",
        "numeric_strings = np.array([\"1.25\", \"-9.6\", \"42\"])\n",
        "\n",
        "# Convert string values to floats\n",
        "print(f'Before Cast: {numeric_strings}\\nConverting to floats: {numeric_strings.astype(np.float64)}')\n"
      ],
      "metadata": {
        "colab": {
          "base_uri": "https://localhost:8080/"
        },
        "id": "cIvrRYb7bsTF",
        "outputId": "34ef906f-b831-46f0-e1eb-878ec2f738ac"
      },
      "execution_count": 92,
      "outputs": [
        {
          "output_type": "stream",
          "name": "stdout",
          "text": [
            "Before Cast: [1 2 3 4 5]\n",
            "Converting to floats: [1. 2. 3. 4. 5.]\n",
            "\n",
            "Before Cast: [ 3.7 -1.2 -2.6  0.5 12.9 10.1]\n",
            "Converting to Integers: [ 3 -1 -2  0 12 10]\n",
            "Notice how the number after the decimal is cut off!!\n",
            "\n",
            "Before Cast: ['1.25' '-9.6' '42']\n",
            "Converting to floats: [ 1.25 -9.6  42.  ]\n"
          ]
        }
      ]
    },
    {
      "cell_type": "markdown",
      "source": [
        "### NumPy Array Indexing\n",
        "Knowning the basic of array indexing is important for analyzing and manipulating the array object.\n",
        "- **Basic indexing:** Basic indexing in NumPy allows you to access elements of an array using indices"
      ],
      "metadata": {
        "id": "wfvLa_o3ft46"
      }
    },
    {
      "cell_type": "code",
      "source": [
        "# Some examples of array indexing\n",
        "import numpy as np\n",
        "\n",
        "# --- 1D Array ---\n",
        "print(\"1D array:\")\n",
        "\n",
        "# Creating a 1D array\n",
        "arr = np.array([1, 2, 3, 4, 5])\n",
        "print(arr)\n",
        "\n",
        "# Accessing a single element (index 2 → third element)\n",
        "print(f'Single Element Access: arr[2] = {arr[2]}')\n",
        "\n",
        "# Negative indexing → last element (-1)\n",
        "print(f'Negative Indexing: arr[-1] = {arr[-1]}\\n')\n",
        "\n",
        "\n",
        "# --- 2D Array ---\n",
        "print(\"2D array:\")\n",
        "\n",
        "# Creating a 2D array (matrix)\n",
        "arr2d = np.array([[1, 2, 3],\n",
        "                  [4, 5, 6],\n",
        "                  [7, 8, 9]])\n",
        "print(arr2d)\n",
        "\n",
        "# Accessing element at row 1, column 1 (zero-based index)\n",
        "print(f'Array access: arr2d[1, 1] = {arr2d[1, 1]}')\n",
        "\n",
        "# Negative indexing in 2D: last row (-1), first column (0)\n",
        "print(f'Negative access: arr2d[-1, 0] = {arr2d[-1, 0]}\\n')\n",
        "\n",
        "\n",
        "# --- 3D Array ---\n",
        "print(\"3D array:\")\n",
        "\n",
        "# Creating a 3D array (2 pages, each 3×3)\n",
        "arr3d = np.array([\n",
        "    [[1, 2, 3],\n",
        "     [4, 5, 6],\n",
        "     [7, 8, 9]],\n",
        "\n",
        "    [[11, 22, 33],\n",
        "     [44, 55, 66],\n",
        "     [77, 88, 99]]\n",
        "])\n",
        "print(arr3d)\n",
        "\n",
        "# Accessing element: page 1, row 1, column 0\n",
        "print(f'Array access: arr3d[1, 1, 0] = {arr3d[1, 1, 0]}')"
      ],
      "metadata": {
        "colab": {
          "base_uri": "https://localhost:8080/"
        },
        "id": "W7PEhPMP5OlK",
        "outputId": "e49d1aaa-dc9d-41f8-d2fc-a6050d58e7c9"
      },
      "execution_count": 93,
      "outputs": [
        {
          "output_type": "stream",
          "name": "stdout",
          "text": [
            "1D array:\n",
            "[1 2 3 4 5]\n",
            "Single Element Access: arr[2] = 3\n",
            "Negative Indexing: arr[-1] = 5\n",
            "\n",
            "2D array:\n",
            "[[1 2 3]\n",
            " [4 5 6]\n",
            " [7 8 9]]\n",
            "Array access: arr2d[1, 1] = 5\n",
            "Negative access: arr2d[-1, 0] = 7\n",
            "\n",
            "3D array:\n",
            "[[[ 1  2  3]\n",
            "  [ 4  5  6]\n",
            "  [ 7  8  9]]\n",
            "\n",
            " [[11 22 33]\n",
            "  [44 55 66]\n",
            "  [77 88 99]]]\n",
            "Array access: arr3d[1, 1, 0] = 44\n"
          ]
        }
      ]
    },
    {
      "cell_type": "markdown",
      "source": [
        "### Slicing(NEED TO DO THIS)\n"
      ],
      "metadata": {
        "id": "c7zNewP597jQ"
      }
    },
    {
      "cell_type": "code",
      "source": [],
      "metadata": {
        "id": "Q7M-vqEI9-B6"
      },
      "execution_count": 63,
      "outputs": []
    },
    {
      "cell_type": "markdown",
      "source": [
        "## Basic Operations\n",
        "Element-wise operations in NumPy let you apply mathematical calculations to each element of an array independently, all at once, without writing explicit loops.\n",
        "This makes the code shorter, faster, and easier to read compared to manually iterating through elements."
      ],
      "metadata": {
        "id": "Xtdg1xY29-kQ"
      }
    },
    {
      "cell_type": "code",
      "source": [
        "import numpy as np\n",
        "\n",
        "x = np.array([1,2,3])\n",
        "y = np.array([4,5,6])\n",
        "\n",
        "# Addition\n",
        "add = x + y\n",
        "print(f\"Addition: {add}\")\n",
        "\n",
        "# Subtraction\n",
        "subtract = x - y\n",
        "print(f\"Subtraction: {subtract}\")\n",
        "\n",
        "# Multiplication\n",
        "multiply = x * y\n",
        "print(f\"Multiplication: {multiply}\")\n",
        "\n",
        "# Division\n",
        "divide = x / y\n",
        "print(f\"division:{divide}\")"
      ],
      "metadata": {
        "colab": {
          "base_uri": "https://localhost:8080/"
        },
        "id": "zdY_Agnl-0SP",
        "outputId": "498b932e-86bb-44f9-8a3b-234980f01e46"
      },
      "execution_count": 60,
      "outputs": [
        {
          "output_type": "stream",
          "name": "stdout",
          "text": [
            "Addition: [5 7 9]\n",
            "Subtraction: [-3 -3 -3]\n",
            "Multiplication: [ 4 10 18]\n",
            "division:[0.25 0.4  0.5 ]\n"
          ]
        }
      ]
    },
    {
      "cell_type": "code",
      "source": [
        "import numpy as np\n",
        "\n",
        "arr = np.array([-3,-1,0,1,3])\n",
        "\n",
        "result = np.absolute(arr)\n",
        "\n",
        "print(f\"absolute value: {result}\")"
      ],
      "metadata": {
        "colab": {
          "base_uri": "https://localhost:8080/"
        },
        "id": "V5Lg3oYt_5yS",
        "outputId": "24ab1861-e7eb-415d-b83f-5a32c4d3ca80"
      },
      "execution_count": 61,
      "outputs": [
        {
          "output_type": "stream",
          "name": "stdout",
          "text": [
            "absolute value: [3 1 0 1 3]\n"
          ]
        }
      ]
    },
    {
      "cell_type": "markdown",
      "source": [
        "## Array Attributes\n",
        "Here I will be learning the basic array attributes before getting into ndarrays in NumPy. Array attributes describe what the array looks like(shape), dimension(ndim), size(size), and dtype is the data type.\n",
        "* **`ndim`** – Number of dimensions (axes) in the array.\n",
        "  *Example:* A 1D array → `ndim = 1`, a 2D matrix → `ndim = 2`.\n",
        "\n",
        "* **`shape`** – Size of the array in each dimension, returned as a tuple.\n",
        "  *Example:* `(2, 3)` means 2 rows and 3 columns.\n",
        "\n",
        "* **`size`** – Total number of elements in the array.\n",
        "  *Example:* A `(2, 3)` array has `2 × 3 = 6` elements.\n",
        "\n",
        "* **`dtype`** – Data type of the array’s elements.\n",
        "  *Example:* `dtype('int64')` means all elements are 64-bit integers."
      ],
      "metadata": {
        "id": "MFvf6dNDU3KS"
      }
    },
    {
      "cell_type": "markdown",
      "source": [
        "### 3D Array Example"
      ],
      "metadata": {
        "id": "l6l2D4dgF2TE"
      }
    },
    {
      "cell_type": "code",
      "source": [
        "import numpy as np\n",
        "\n",
        "# Create a 3D array (2 pages, each with 3 rows and 4 columns)\n",
        "arr_3d = np.array([\n",
        "    [[1, 2, 3, 99],\n",
        "     [4, 5, 6, 99],\n",
        "     [22, 23, 24, 99]],\n",
        "\n",
        "    [[7, 8, 9, 99],\n",
        "     [10, 11, 12, 99],\n",
        "     [33, 44, 55, 99]]\n",
        "])\n",
        "\n",
        "# Display the 3D array\n",
        "print(f'3D array:\\n{arr_3d}\\n')\n",
        "\n",
        "# Number of dimensions (should be 3 for a 3D array)\n",
        "print(f\"The dimensions of this 3D matrix: {arr_3d.ndim}\")\n",
        "\n",
        "# Shape → (pages, rows, columns)\n",
        "print(f\"Shape of the matrix: {arr_3d.shape}\")\n",
        "\n",
        "# Total number of elements in the array\n",
        "print(f\"Size of the matrix: {arr_3d.size} Elements\")\n",
        "\n",
        "# Data type of elements in the array\n",
        "print(f\"dtype of this matrix: {arr_3d.dtype}\")\n"
      ],
      "metadata": {
        "colab": {
          "base_uri": "https://localhost:8080/"
        },
        "id": "Ku64EvjeTwR3",
        "outputId": "40185204-7b2e-405a-ae74-fa2537e692fb"
      },
      "execution_count": 94,
      "outputs": [
        {
          "output_type": "stream",
          "name": "stdout",
          "text": [
            "3D array:\n",
            "[[[ 1  2  3 99]\n",
            "  [ 4  5  6 99]\n",
            "  [22 23 24 99]]\n",
            "\n",
            " [[ 7  8  9 99]\n",
            "  [10 11 12 99]\n",
            "  [33 44 55 99]]]\n",
            "\n",
            "The dimensions of this 3D matrix: 3\n",
            "Shape of the matrix: (2, 3, 4)\n",
            "Size of the matrix: 24 Elements\n",
            "dtype of this matrix: int64\n"
          ]
        }
      ]
    },
    {
      "cell_type": "markdown",
      "source": [
        "### 2D Array Example"
      ],
      "metadata": {
        "id": "enBiwrOIF637"
      }
    },
    {
      "cell_type": "code",
      "source": [
        "import numpy as np\n",
        "\n",
        "# Create a 2D array (3 rows × 4 columns)\n",
        "arr_2d = np.array([\n",
        "    [1, 2, 3, 99],\n",
        "    [4, 5, 6, 99],\n",
        "    [22, 23, 24, 99]\n",
        "])\n",
        "\n",
        "# Display the 2D array\n",
        "print(f'2D array:\\n{arr_2d}\\n')\n",
        "\n",
        "# Number of dimensions (should be 2 for a 2D array)\n",
        "print(f\"The dimensions of this 2D matrix: {arr_2d.ndim}\")\n",
        "\n",
        "# Shape → (rows, columns)\n",
        "print(f\"Shape of the matrix: {arr_2d.shape}\")\n",
        "\n",
        "# Total number of elements in the array\n",
        "print(f\"Size of the matrix: {arr_2d.size} Elements\")\n",
        "\n",
        "# Data type of elements in the array\n",
        "print(f\"dtype of this matrix: {arr_2d.dtype}\")\n"
      ],
      "metadata": {
        "colab": {
          "base_uri": "https://localhost:8080/"
        },
        "id": "W5Lb3xG4F-74",
        "outputId": "75986f5c-490e-4936-a43a-ce852cf71fb4"
      },
      "execution_count": 95,
      "outputs": [
        {
          "output_type": "stream",
          "name": "stdout",
          "text": [
            "2D array:\n",
            "[[ 1  2  3 99]\n",
            " [ 4  5  6 99]\n",
            " [22 23 24 99]]\n",
            "\n",
            "The dimensions of this 2D matrix: 2\n",
            "Shape of the matrix: (3, 4)\n",
            "Size of the matrix: 12 Elements\n",
            "dtype of this matrix: int64\n"
          ]
        }
      ]
    },
    {
      "cell_type": "markdown",
      "source": [
        "## Arithmetic with NumPy Arrays\n",
        "Arrays are important because they enable you to express batch operations on data without writing any for loops. NumPy users call this ***vectorization***. Any arithmetic operations between equal-size arrays apply the operation element-wise:\n",
        "\n",
        "Evaluating operations between differently sized arrays is called ***broadcasting***"
      ],
      "metadata": {
        "id": "FlbMYyC1gVcc"
      }
    }
  ]
}