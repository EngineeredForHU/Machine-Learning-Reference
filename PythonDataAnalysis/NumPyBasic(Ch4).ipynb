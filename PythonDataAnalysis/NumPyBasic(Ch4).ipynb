{
  "nbformat": 4,
  "nbformat_minor": 0,
  "metadata": {
    "colab": {
      "provenance": [],
      "toc_visible": true,
      "authorship_tag": "ABX9TyNMFGUkmZRPxmoABBHNogAf",
      "include_colab_link": true
    },
    "kernelspec": {
      "name": "python3",
      "display_name": "Python 3"
    },
    "language_info": {
      "name": "python"
    }
  },
  "cells": [
    {
      "cell_type": "markdown",
      "metadata": {
        "id": "view-in-github",
        "colab_type": "text"
      },
      "source": [
        "<a href=\"https://colab.research.google.com/github/EngineeredForHU/Machine-Learning-Reference/blob/main/PythonDataAnalysis/NumPyBasic(Ch4).ipynb\" target=\"_parent\"><img src=\"https://colab.research.google.com/assets/colab-badge.svg\" alt=\"Open In Colab\"/></a>"
      ]
    },
    {
      "cell_type": "markdown",
      "source": [
        "# Chapter 4: NumPy Basics – Arrays and Vectorized Computation\n",
        "\n",
        "In this chapter, we will explore the **core features of NumPy**, the foundational library for numerical and scientific computing in Python.  \n",
        "We will cover:\n",
        "- ndarray, an efficient multidimensional array providing fast array-oriented\n",
        "\n",
        "- arithmetic operations and flexible broadcasting capabilities\n",
        "\n",
        "\n",
        "- Mathematical functions for fast operations on entire arrays of data without having to write loops\n",
        "\n",
        "- Tools for reading/writing array data to disk and working with memory-mapped files\n",
        "\n",
        "- Linear algebra, random number generation, and Fourier transform capabilities\n",
        "\n",
        "- A C API for connecting NumPy with libraries written in C, C++, or FORTRAN\n",
        "\n",
        "By the end of this section, you’ll understand how to use NumPy arrays as the backbone of data analysis, paving the way for more advanced numerical techniques and machine learning workflows.\n",
        "\n",
        "For most data analysis applications, the main areas of functionality I’ll focus on are:\n",
        "\n",
        "- Fast array-based operations for data munging and cleaning, subsetting and filtering, transformation, and any other kind of computation\n",
        "\n",
        "- Common array algorithms like sorting, unique, and set operations\n",
        "\n",
        "- Efficient descriptive statistics and aggregating/summarizing data\n",
        "\n",
        "- Data alignment and relational data manipulations for merging and joining heterogeneous datasets\n",
        "\n",
        "- Expressing conditional logic as array expressions instead of loops with if-elif-else branches\n",
        "\n",
        "- Group-wise data manipulations (aggregation, transformation, and function application)"
      ],
      "metadata": {
        "id": "jqgZZCTxBzIc"
      }
    },
    {
      "cell_type": "markdown",
      "source": [
        "## Introduction to Numpy\n",
        "One of the reasons NumPy is so important for numerical computations in python is because it is designed for efficiency on large arrays of data.\n",
        "\n",
        "It provides efficient multi-dimensional array objects and various mathematical functions"
      ],
      "metadata": {
        "id": "daI7aE7iD-zQ"
      }
    },
    {
      "cell_type": "markdown",
      "source": [
        "## Creating an Array (ndarray)\n",
        "**ndarray = N-dimentional arrays**\n",
        "\n",
        "The easiest way to create an array is to use the **array function**. This accepts any sequence-like object(including other arrays) and produces a NumPy array containing the passed data.\n",
        "\n",
        "**Note:** although **ndarrays** supports only `homogeneous` data types (elements within it are of the same data type).\n",
        "- You can also use **ndarrays** with different data type, using dtype = 'object'"
      ],
      "metadata": {
        "id": "xC0h66wwW-SV"
      }
    },
    {
      "cell_type": "code",
      "source": [
        "import numpy as np\n",
        "# Here I will create a few different dimentional arrays\n",
        "\n",
        "# creating a 1D array\n",
        "arr_1d = np.array([1,2,3])\n",
        "\n",
        "# creating a 2D array\n",
        "arr_2d = np.array([[1,2,3],[3,4,6]])\n",
        "\n",
        "# creating a 3D array\n",
        "# A 3D array is like having 2D array stacked\n",
        "arr_3d = np.array([[[1, 2,0],\n",
        "                    [3, 4,6]],\n",
        "\n",
        "                    [[5, 6,9],\n",
        "                    [7, 8,10]]])\n",
        "\n",
        "print(f\"1D array:\\n{arr_1d}\\n\")\n",
        "print(f\"2D array:\\n{arr_2d}\\n\")\n",
        "print(f\"3D array:\\n{arr_3d}\")\n",
        "\n"
      ],
      "metadata": {
        "colab": {
          "base_uri": "https://localhost:8080/"
        },
        "id": "LVq-X29uYTkv",
        "outputId": "81ba176f-5721-4809-9bfe-d30ac2d4b680"
      },
      "execution_count": 62,
      "outputs": [
        {
          "output_type": "stream",
          "name": "stdout",
          "text": [
            "1D array:\n",
            "[1 2 3]\n",
            "\n",
            "2D array:\n",
            "[[1 2 3]\n",
            " [3 4 6]]\n",
            "\n",
            "3D array:\n",
            "[[[ 1  2  0]\n",
            "  [ 3  4  6]]\n",
            "\n",
            " [[ 5  6  9]\n",
            "  [ 7  8 10]]]\n"
          ]
        }
      ]
    },
    {
      "cell_type": "markdown",
      "source": [
        "### NumPy Array Indexing\n",
        "Knowning the basic of array indexing is important for analyzing and manipulating the array object.\n",
        "- **Basic indexing:** Basic indexing in NumPy allows you to access elements of an array using indices"
      ],
      "metadata": {
        "id": "wfvLa_o3ft46"
      }
    },
    {
      "cell_type": "code",
      "source": [
        "# Some examples of array indexing\n",
        "import numpy as np\n",
        "\n",
        "print(\"1D array:\")\n",
        "\n",
        "# Creating 1D array\n",
        "arr = np.array([1,2,3,4,5])\n",
        "\n",
        "# printing arr\n",
        "print(f\"{arr}\")\n",
        "\n",
        "print(f'Single Element Access: arr[2] = {arr[2]}')\n",
        "\n",
        "# negitive indexing gets the last element\n",
        "print(f'Negative Indexing: arr[-1] = {arr[-1]}\\n')\n",
        "\n",
        "# 2D array\n",
        "print(f'2D array:')\n",
        "arr2d = np.array([[1,2,3],[4,5,6],[7,8,9]])\n",
        "print(arr2d)\n",
        "\n",
        "# Indexing 2D array\n",
        "print(f\"Array access: arr2d[1,1] = {arr2d[1,1]}\")\n",
        "print(f'Negative access: arr2d[-1,0] = {arr2d[-1,0]}\\n')\n",
        "\n",
        "# 3D Array\n",
        "print(f\"3D Array:\")\n",
        "arr3d = np.array([[[1,2,3],[4,5,6],[7,8,9]],[[11,22,33],[44,55,66],[77,88,99]]])\n",
        "print(arr3d)\n",
        "print(f'Array access: arr3d[1,1,0] = {arr3d[1,1,0]}')\n",
        "\n"
      ],
      "metadata": {
        "colab": {
          "base_uri": "https://localhost:8080/"
        },
        "id": "W7PEhPMP5OlK",
        "outputId": "70061f86-3c4d-49a6-cda7-ea8175af83a1"
      },
      "execution_count": 63,
      "outputs": [
        {
          "output_type": "stream",
          "name": "stdout",
          "text": [
            "1D array:\n",
            "[1 2 3 4 5]\n",
            "Single Element Access: arr[2] = 3\n",
            "Negative Indexing: arr[-1] = 5\n",
            "\n",
            "2D array:\n",
            "[[1 2 3]\n",
            " [4 5 6]\n",
            " [7 8 9]]\n",
            "Array access: arr2d[1,1] = 5\n",
            "Negative access: arr2d[-1,0] = 7\n",
            "\n",
            "3D Array:\n",
            "[[[ 1  2  3]\n",
            "  [ 4  5  6]\n",
            "  [ 7  8  9]]\n",
            "\n",
            " [[11 22 33]\n",
            "  [44 55 66]\n",
            "  [77 88 99]]]\n",
            "Array access: arr3d[1,1,0] = 44\n"
          ]
        }
      ]
    },
    {
      "cell_type": "markdown",
      "source": [
        "### Slicing(NEED TO DO THIS)"
      ],
      "metadata": {
        "id": "c7zNewP597jQ"
      }
    },
    {
      "cell_type": "code",
      "source": [],
      "metadata": {
        "id": "Q7M-vqEI9-B6"
      },
      "execution_count": 63,
      "outputs": []
    },
    {
      "cell_type": "markdown",
      "source": [
        "## Basic Operations\n",
        "Element-wise operations in NumPy let you apply mathematical calculations to each element of an array independently, all at once, without writing explicit loops.\n",
        "This makes the code shorter, faster, and easier to read compared to manually iterating through elements."
      ],
      "metadata": {
        "id": "Xtdg1xY29-kQ"
      }
    },
    {
      "cell_type": "code",
      "source": [
        "import numpy as np\n",
        "\n",
        "x = np.array([1,2,3])\n",
        "y = np.array([4,5,6])\n",
        "\n",
        "# Addition\n",
        "add = x + y\n",
        "print(f\"Addition: {add}\")\n",
        "\n",
        "# Subtraction\n",
        "subtract = x - y\n",
        "print(f\"Subtraction: {subtract}\")\n",
        "\n",
        "# Multiplication\n",
        "multiply = x * y\n",
        "print(f\"Multiplication: {multiply}\")\n",
        "\n",
        "# Division\n",
        "divide = x / y\n",
        "print(f\"division:{divide}\")"
      ],
      "metadata": {
        "colab": {
          "base_uri": "https://localhost:8080/"
        },
        "id": "zdY_Agnl-0SP",
        "outputId": "498b932e-86bb-44f9-8a3b-234980f01e46"
      },
      "execution_count": 60,
      "outputs": [
        {
          "output_type": "stream",
          "name": "stdout",
          "text": [
            "Addition: [5 7 9]\n",
            "Subtraction: [-3 -3 -3]\n",
            "Multiplication: [ 4 10 18]\n",
            "division:[0.25 0.4  0.5 ]\n"
          ]
        }
      ]
    },
    {
      "cell_type": "code",
      "source": [
        "import numpy as np\n",
        "\n",
        "arr = np.array([-3,-1,0,1,3])\n",
        "\n",
        "result = np.absolute(arr)\n",
        "\n",
        "print(f\"absolute value: {result}\")"
      ],
      "metadata": {
        "colab": {
          "base_uri": "https://localhost:8080/"
        },
        "id": "V5Lg3oYt_5yS",
        "outputId": "24ab1861-e7eb-415d-b83f-5a32c4d3ca80"
      },
      "execution_count": 61,
      "outputs": [
        {
          "output_type": "stream",
          "name": "stdout",
          "text": [
            "absolute value: [3 1 0 1 3]\n"
          ]
        }
      ]
    },
    {
      "cell_type": "markdown",
      "source": [
        "## Array Attributes\n",
        "Here I will be learning the basic array attributes before getting into ndarrays in NumPy. Array attributes describe what the array looks like(shape), dimension(ndim), size(size), and dtype is the data type.\n",
        "* **`ndim`** – Number of dimensions (axes) in the array.\n",
        "  *Example:* A 1D array → `ndim = 1`, a 2D matrix → `ndim = 2`.\n",
        "\n",
        "* **`shape`** – Size of the array in each dimension, returned as a tuple.\n",
        "  *Example:* `(2, 3)` means 2 rows and 3 columns.\n",
        "\n",
        "* **`size`** – Total number of elements in the array.\n",
        "  *Example:* A `(2, 3)` array has `2 × 3 = 6` elements.\n",
        "\n",
        "* **`dtype`** – Data type of the array’s elements.\n",
        "  *Example:* `dtype('int64')` means all elements are 64-bit integers."
      ],
      "metadata": {
        "id": "MFvf6dNDU3KS"
      }
    },
    {
      "cell_type": "markdown",
      "source": [],
      "metadata": {
        "id": "r9vSZXVSF-Lm"
      }
    },
    {
      "cell_type": "markdown",
      "source": [
        "### 3D Array Example"
      ],
      "metadata": {
        "id": "l6l2D4dgF2TE"
      }
    },
    {
      "cell_type": "code",
      "source": [
        "import numpy as np\n",
        "\n",
        "# Here we will create a 3D array and return it to validate it is a 3 dimensional array.\n",
        "\n",
        "arr_3d = np.array([[[1,2,3,99],[4,5,6,99],[22,23,24,99]],[[7,8,9,99],[10,11,12,99],[33,44,55,99]]])\n",
        "print(f'3D array:\\n{arr_3d}\\n')\n",
        "print(f\"The dimensions of this 3D matrix: {arr_3d.ndim}\")\n",
        "print(f\"Shape of the matrix: {arr_3d.shape}\")\n",
        "print(f\"Size of the matrix: {arr_3d.size} Elements\")\n",
        "print(f\"dtype of this matrix: {arr_3d.dtype}\")"
      ],
      "metadata": {
        "colab": {
          "base_uri": "https://localhost:8080/"
        },
        "id": "Ku64EvjeTwR3",
        "outputId": "eba6d314-00a6-4d9c-db60-1a7e2732b214"
      },
      "execution_count": 77,
      "outputs": [
        {
          "output_type": "stream",
          "name": "stdout",
          "text": [
            "3D array:\n",
            "[[[ 1  2  3 99]\n",
            "  [ 4  5  6 99]\n",
            "  [22 23 24 99]]\n",
            "\n",
            " [[ 7  8  9 99]\n",
            "  [10 11 12 99]\n",
            "  [33 44 55 99]]]\n",
            "\n",
            "The dimensions of this 3D matrix: 3\n",
            "Shape of the matrix: (2, 3, 4)\n",
            "Size of the matrix: 24 Elements\n",
            "dtype of this matrix: int64\n"
          ]
        }
      ]
    },
    {
      "cell_type": "markdown",
      "source": [
        "### 2D Array Example"
      ],
      "metadata": {
        "id": "enBiwrOIF637"
      }
    },
    {
      "cell_type": "code",
      "source": [
        "import numpy as np\n",
        "\n",
        "# Here we will create a 2D array and return it to validate it is a 2 dimensional array.\n",
        "\n",
        "arr_3d = np.array([[1,2,3,99],[4,5,6,99],[22,23,24,99]])\n",
        "print(f'2D array:\\n{arr_3d}\\n')\n",
        "print(f\"The dimensions of this 2D matrix: {arr_3d.ndim}\")\n",
        "print(f\"Shape of the matrix: {arr_3d.shape}\")\n",
        "print(f\"Size of the matrix: {arr_3d.size} Elements\")\n",
        "print(f\"dtype of this matrix: {arr_3d.dtype}\")"
      ],
      "metadata": {
        "colab": {
          "base_uri": "https://localhost:8080/"
        },
        "id": "W5Lb3xG4F-74",
        "outputId": "effe442d-6722-4f80-9c14-e447f36fde69"
      },
      "execution_count": 81,
      "outputs": [
        {
          "output_type": "stream",
          "name": "stdout",
          "text": [
            "2D array:\n",
            "[[ 1  2  3 99]\n",
            " [ 4  5  6 99]\n",
            " [22 23 24 99]]\n",
            "\n",
            "The dimensions of this 2D matrix: 2\n",
            "Shape of the matrix: (3, 4)\n",
            "Size of the matrix: 12 Elements\n",
            "dtype of this matrix: int64\n"
          ]
        }
      ]
    },
    {
      "cell_type": "markdown",
      "source": [
        "##4.1: The NumPy ndarray: A Multidimensional Array Object\n",
        "One of the key features of NumPy is its N-dimensional array object, or ndarray, which is a fast, flexible container for large datasets in Python.     "
      ],
      "metadata": {
        "id": "roPB2IQmE3h5"
      }
    },
    {
      "cell_type": "code",
      "source": [
        "import numpy as np"
      ],
      "metadata": {
        "id": "YhdXUkFLOZ7N"
      },
      "execution_count": 1,
      "outputs": []
    },
    {
      "cell_type": "code",
      "source": [
        "names = np.array([[\"angel\", \"bob\"], [\"ariana\", \"briana\"]])\n",
        "print(names.shape)   # (2, 2)\n"
      ],
      "metadata": {
        "colab": {
          "base_uri": "https://localhost:8080/"
        },
        "id": "E_JQMrLkOfBr",
        "outputId": "37b980fe-427b-4824-c144-adbf0d5d8aa3"
      },
      "execution_count": 5,
      "outputs": [
        {
          "output_type": "stream",
          "name": "stdout",
          "text": [
            "(2, 2)\n"
          ]
        }
      ]
    },
    {
      "cell_type": "code",
      "source": [],
      "metadata": {
        "colab": {
          "base_uri": "https://localhost:8080/"
        },
        "id": "v6Nmc7h1OzkI",
        "outputId": "cf94c601-4f81-4ccf-c38e-ca3c78e6c5e3"
      },
      "execution_count": 6,
      "outputs": [
        {
          "output_type": "stream",
          "name": "stdout",
          "text": [
            "bob\n"
          ]
        }
      ]
    }
  ]
}