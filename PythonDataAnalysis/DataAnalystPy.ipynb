{
 "cells": [
  {
   "metadata": {},
   "cell_type": "markdown",
   "source": [
    "# Python for Data Analyst (Book)\n",
    "This Notebook will serve as the introductioin to the most important fundamenatal concepts in data analysis using Python more particularly in the libaries such as **NumPy, Pandas**.\n",
    "\n",
    "This Notebook will serve as a reference to my reading/learning from the book **\"Python for Data Analysis, 3rd Edition\" by Wes McKinney**."
   ],
   "id": "414d33ae67833c9c"
  },
  {
   "metadata": {},
   "cell_type": "markdown",
   "source": [
    "# Introduction\n",
    "This introduction will cover the essential core Python concepts that form the foundation for data analysis.\n",
    "Before diving into Python’s powerful libraries — like NumPy and Pandas — it’s important to first understand these basics, as they will make working with more advanced tools far easier and more intuitive."
   ],
   "id": "481f7790d343cdd7"
  }
 ],
 "metadata": {
  "kernelspec": {
   "display_name": "Python 3",
   "language": "python",
   "name": "python3"
  },
  "language_info": {
   "codemirror_mode": {
    "name": "ipython",
    "version": 2
   },
   "file_extension": ".py",
   "mimetype": "text/x-python",
   "name": "python",
   "nbconvert_exporter": "python",
   "pygments_lexer": "ipython2",
   "version": "2.7.6"
  }
 },
 "nbformat": 4,
 "nbformat_minor": 5
}
